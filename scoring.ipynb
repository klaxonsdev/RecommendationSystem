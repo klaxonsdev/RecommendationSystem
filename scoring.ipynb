{
 "metadata": {
  "language_info": {
   "codemirror_mode": {
    "name": "ipython",
    "version": 3
   },
   "file_extension": ".py",
   "mimetype": "text/x-python",
   "name": "python",
   "nbconvert_exporter": "python",
   "pygments_lexer": "ipython3",
   "version": "3.6.8-final"
  },
  "orig_nbformat": 2,
  "kernelspec": {
   "name": "python3",
   "display_name": "Python 3.6.8 64-bit",
   "metadata": {
    "interpreter": {
     "hash": "e86560c00f1ecfbf261dfa9240e5c17f500c8310bc39cc125b2c4aa78646d5fb"
    }
   }
  }
 },
 "nbformat": 4,
 "nbformat_minor": 2,
 "cells": [
  {
   "cell_type": "code",
   "execution_count": null,
   "metadata": {},
   "outputs": [],
   "source": [
    "import pandas as pd \n",
    "import numpy as np \n",
    "import matplotlib.pyplot as plt \n",
    "from datetime import datetime, timedelta\n",
    "from sklearn import preprocessing\n",
    "from lightfm import LightFM\n",
    "from scipy.sparse import csr_matrix \n",
    "from scipy.sparse import coo_matrix \n",
    "from sklearn.metrics import roc_auc_score\n",
    "import time\n",
    "from lightfm.evaluation import auc_score\n",
    "import pickle\n",
    "import re\n",
    "import seaborn as sns"
   ]
  },
  {
   "cell_type": "code",
   "execution_count": null,
   "metadata": {},
   "outputs": [],
   "source": [
    "# Items/Books Data\n",
    "books = pd.read_csv('BX-CSV-Dump/BX-Books.csv', sep=';', error_bad_lines=False, encoding=\"latin-1\")\n",
    "books.columns = ['ISBN', 'bookTitle', 'bookAuthor', 'yearOfPublication', 'publisher', 'imageUrlS', 'imageUrlM', 'imageUrlL']\n",
    "\n",
    "# Users Data\n",
    "users = pd.read_csv('BX-CSV-Dump/BX-Users.csv', sep=';', error_bad_lines=False, encoding=\"latin-1\")\n",
    "users.columns = ['userID', 'Location', 'Age']\n",
    "\n",
    "#Rating Data\n",
    "ratings = pd.read_csv('BX-CSV-Dump/BX-Book-Ratings.csv', sep=';', error_bad_lines=False, encoding=\"latin-1\")\n",
    "ratings.columns = ['userID', 'ISBN', 'bookRating']"
   ]
  },
  {
   "cell_type": "code",
   "execution_count": null,
   "metadata": {},
   "outputs": [],
   "source": [
    "ratings.shape"
   ]
  },
  {
   "cell_type": "code",
   "execution_count": null,
   "metadata": {},
   "outputs": [],
   "source": [
    "books.shape\n"
   ]
  },
  {
   "cell_type": "code",
   "execution_count": null,
   "metadata": {},
   "outputs": [],
   "source": [
    "users.shape "
   ]
  },
  {
   "cell_type": "code",
   "execution_count": null,
   "metadata": {},
   "outputs": [],
   "source": [
    "ratings.head()\n"
   ]
  },
  {
   "cell_type": "code",
   "execution_count": null,
   "metadata": {},
   "outputs": [],
   "source": [
    "books.head()\n"
   ]
  },
  {
   "cell_type": "code",
   "execution_count": null,
   "metadata": {},
   "outputs": [],
   "source": [
    "users.head()"
   ]
  },
  {
   "cell_type": "code",
   "execution_count": null,
   "metadata": {},
   "outputs": [],
   "source": [
    "books.columns"
   ]
  },
  {
   "cell_type": "code",
   "execution_count": null,
   "metadata": {},
   "outputs": [],
   "source": [
    "#books.drop(['imageUrlS', 'imageUrlM', 'imageUrlL'],axis=1,inplace=True)\n",
    "del books['imageUrlS']\n",
    "del books['imageUrlM']\n",
    "del books['imageUrlL']\n",
    "books.loc[books.ISBN == '0789466953','yearOfPublication'] = 2000\n",
    "books.loc[books.ISBN == '0789466953','bookAuthor'] = \"James Buckley\"\n",
    "books.loc[books.ISBN == '0789466953','publisher'] = \"DK Publishing Inc\"\n",
    "books.loc[books.ISBN == '0789466953','bookTitle'] = \"DK Readers: Creating the X-Men, How Comic Books Come to Life (Level 4: Proficient Readers)\"\n",
    "books.loc[books.ISBN == '078946697X','yearOfPublication'] = 2000\n",
    "books.loc[books.ISBN == '078946697X','bookAuthor'] = \"Michael Teitelbaum\"\n",
    "books.loc[books.ISBN == '078946697X','publisher'] = \"DK Publishing Inc\"\n",
    "books.loc[books.ISBN == '078946697X','bookTitle'] = \"DK Readers: Creating the X-Men, How It All Began (Level 4: Proficient Readers)\"\n",
    "books.loc[books.ISBN == '2070426769','yearOfPublication'] = 2003\n",
    "books.loc[books.ISBN == '2070426769','bookAuthor'] = \"Jean-Marie Gustave Le ClÃ?Â©zio\"\n",
    "books.loc[books.ISBN == '2070426769','publisher'] = \"Gallimard\"\n",
    "books.loc[books.ISBN == '2070426769','bookTitle'] = \"Peuple du ciel, suivi de 'Les Bergers\"\n",
    "books.yearOfPublication=pd.to_numeric(books.yearOfPublication, errors='coerce')\n",
    "books.loc[(books.yearOfPublication > 2006) | (books.yearOfPublication == 0),'yearOfPublication'] = np.NAN\n",
    "books.yearOfPublication.fillna(round(books.yearOfPublication.mean()), inplace=True)\n",
    "books.loc[(books.ISBN == '193169656X'),'publisher'] = 'other'\n",
    "books.loc[(books.ISBN == '1931696993'),'publisher'] = 'other'\n",
    "users.loc[(users.Age > 90) | (users.Age < 5), 'Age'] = np.nan\n",
    "users.Age = users.Age.fillna(users.Age.mean())\n",
    "users.Age = users.Age.astype(np.int32)"
   ]
  },
  {
   "cell_type": "code",
   "execution_count": null,
   "metadata": {},
   "outputs": [],
   "source": [
    "books.columns"
   ]
  },
  {
   "cell_type": "code",
   "execution_count": null,
   "metadata": {},
   "outputs": [],
   "source": [
    "ratings_new = ratings[ratings.ISBN.isin(books.ISBN)]\n",
    "ratings = ratings[ratings.userID.isin(users.userID)]\n",
    "ratings_explicit = ratings_new[ratings_new.bookRating != 0]"
   ]
  },
  {
   "cell_type": "code",
   "execution_count": null,
   "metadata": {},
   "outputs": [],
   "source": [
    "sns.countplot(data=ratings_explicit, x='bookRating')\n",
    "plt.show()\n"
   ]
  },
  {
   "cell_type": "code",
   "execution_count": null,
   "metadata": {},
   "outputs": [],
   "source": [
    "# Making a Threshold for Book and User i.e only Users who rates more than 20 Books and Books that already rated by 20 Users\n",
    "counts1 = ratings_explicit['userID'].value_counts()\n",
    "ratings_explicit = ratings_explicit[ratings_explicit['userID'].isin(counts1[counts1 >= 20].index)]\n",
    "counts = ratings_explicit['bookRating'].value_counts()\n",
    "ratings_explicit = ratings_explicit[ratings_explicit['bookRating'].isin(counts[counts >= 20].index)]\n",
    "\n",
    "ratings_explicit.shape"
   ]
  },
  {
   "cell_type": "code",
   "execution_count": null,
   "metadata": {},
   "outputs": [],
   "source": [
    "def informed_train_test(rating_df, train_ratio):\n",
    "    split_cut = np.int(np.round(rating_df.shape[0] * train_ratio))\n",
    "    train_df = rating_df.iloc[0:split_cut]\n",
    "    test_df = rating_df.iloc[split_cut::]\n",
    "    test_df = test_df[(test_df['userID'].isin(train_df['userID'])) & (test_df['ISBN'].isin(train_df['ISBN']))]\n",
    "    id_cols = ['userID', 'ISBN']\n",
    "    trans_cat_train = dict()\n",
    "    trans_cat_test = dict()\n",
    "    for k in id_cols:\n",
    "        cate_enc = preprocessing.LabelEncoder()\n",
    "        trans_cat_train[k] = cate_enc.fit_transform(train_df[k].values)\n",
    "        trans_cat_test[k] = cate_enc.transform(test_df[k].values)\n",
    "\n",
    "# --- Encode ratings:\n",
    "    cate_enc = preprocessing.LabelEncoder()\n",
    "    ratings = dict()\n",
    "    ratings['train'] = cate_enc.fit_transform(train_df.bookRating)\n",
    "    ratings['test'] = cate_enc.transform(test_df.bookRating)\n",
    "    n_users = len(np.unique(trans_cat_train['userID']))\n",
    "    n_items = len(np.unique(trans_cat_train['ISBN']))\n",
    "    train = coo_matrix((ratings['train'], (trans_cat_train['userID'], trans_cat_train['ISBN'])), shape=(n_users, n_items))\n",
    "    test = coo_matrix((ratings['test'], (trans_cat_test['userID'], trans_cat_test['ISBN'])), shape=(n_users, n_items))\n",
    "    return train, test, train_df\n"
   ]
  },
  {
   "cell_type": "code",
   "execution_count": null,
   "metadata": {},
   "outputs": [],
   "source": [
    "print('hello')"
   ]
  },
  {
   "cell_type": "code",
   "execution_count": null,
   "metadata": {},
   "outputs": [],
   "source": [
    "train, test, raw_train_df = informed_train_test(ratings_explicit, 0.8)\n",
    "start_time = time.time()\n",
    "model=LightFM(no_components=110,learning_rate=0.027,loss='warp')\n",
    "model.fit(train,epochs=12,num_threads=4)\n",
    "# with open('saved_model','wb') as f:\n",
    "#     saved_model={'model':model}\n",
    "#     pickle.dump(saved_model, f)\n",
    "auc_train = auc_score(model, train).mean()\n",
    "auc_test = auc_score(model, test).mean()\n",
    "print(\"--- Run time:  {} mins ---\".format((time.time() - start_time)/60))\n",
    "print(\"Train AUC Score: {}\".format(auc_train))\n",
    "print(\"Test AUC Score: {}\".format(auc_test))"
   ]
  },
  {
   "cell_type": "code",
   "execution_count": null,
   "metadata": {},
   "outputs": [],
   "source": [
    "import scipy.sparse as sp\n",
    "def _shuffle(uids, iids, data, random_state):\n",
    "    shuffle_indices = np.arange(len(uids))\n",
    "    random_state.shuffle(shuffle_indices)\n",
    "    return (uids[shuffle_indices], iids[shuffle_indices], data[shuffle_indices])\n",
    "\n",
    "def random_train_test_split(interactions_df, test_percentage=0.25,random_state=None):\n",
    "    \"\"\"\n",
    "    Randomly split interactions between training and testing.\n",
    "This function takes an interaction set and splits it into\n",
    "    two disjoint sets, a training set and a test set. Note that\n",
    "    no effort is made to make sure that all items and users with\n",
    "    interactions in the test set also have interactions in the\n",
    "    training set; this may lead to a partial cold-start problem\n",
    "    in the test set.\n",
    "Parameters\n",
    "    ----------\n",
    "interactions: a scipy sparse matrix containing interactions\n",
    "        The interactions to split.\n",
    "    test_percentage: float, optional\n",
    "        The fraction of interactions to place in the test set.\n",
    "    random_state: np.random.RandomState, optional\n",
    "        The random state used for the shuffle.\n",
    "Returns\n",
    "    -------\n",
    "(train, test): (scipy.sparse.COOMatrix,\n",
    "                    scipy.sparse.COOMatrix)\n",
    "         A tuple of (train data, test data)\n",
    "    \"\"\"\n",
    "    interactions = csr_matrix(interactions_df.values)\n",
    "    if random_state is None:\n",
    "        random_state = np.random.RandomState()\n",
    "        \n",
    "    interactions = interactions.tocoo()\n",
    "    shape = interactions.shape\n",
    "    uids, iids, data = (interactions.row,\n",
    "                        interactions.col,\n",
    "                        interactions.data)\n",
    "    uids, iids, data = _shuffle(uids, iids, data, random_state)\n",
    "    cutoff = int((1.0 - test_percentage) * len(uids))\n",
    "    train_idx = slice(None, cutoff)\n",
    "    test_idx = slice(cutoff, None)\n",
    "    train = coo_matrix((data[train_idx],\n",
    "                           (uids[train_idx],\n",
    "                            iids[train_idx])),\n",
    "                          shape=shape,\n",
    "                          dtype=interactions.dtype)\n",
    "    test = coo_matrix((data[test_idx],\n",
    "                          (uids[test_idx],\n",
    "                           iids[test_idx])),\n",
    "                         shape=shape,\n",
    "                         dtype=interactions.dtype)\n",
    "    return train, test"
   ]
  },
  {
   "cell_type": "code",
   "execution_count": null,
   "metadata": {},
   "outputs": [],
   "source": [
    "ratings_matrix= ratings_explicit.pivot(index ='userID', columns='ISBN', values = 'bookRating').fillna(0)\n",
    "\n",
    "ratings_matrix"
   ]
  },
  {
   "cell_type": "code",
   "execution_count": null,
   "metadata": {},
   "outputs": [],
   "source": [
    "train, test = random_train_test_split(ratings_matrix)\n",
    "\n",
    "start_time = time.time()\n",
    "model=LightFM(no_components=115,learning_rate=0.027,loss='warp')\n",
    "model.fit(train,epochs=12,num_threads=4)\n",
    "# with open('saved_model','wb') as f:\n",
    "#     saved_model={'model':model}#     pickle.dump(saved_model, f)\n",
    "auc_train = auc_score(model, train).mean()\n",
    "auc_test = auc_score(model, test).mean()\n",
    "\n",
    "print(\"--- Run time:  {} mins ---\".format((time.time() - start_time)/60))\n",
    "print(\"Train AUC Score: {}\".format(auc_train))\n",
    "print(\"Test AUC Score: {}\".format(auc_test))"
   ]
  },
  {
   "cell_type": "code",
   "execution_count": null,
   "metadata": {},
   "outputs": [],
   "source": [
    "ratings_explicit.head()"
   ]
  },
  {
   "cell_type": "code",
   "execution_count": null,
   "metadata": {},
   "outputs": [],
   "source": []
  }
 ]
}