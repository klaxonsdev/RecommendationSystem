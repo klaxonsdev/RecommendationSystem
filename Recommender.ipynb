{
 "cells": [
  {
   "cell_type": "code",
   "execution_count": null,
   "id": "polished-springer",
   "metadata": {},
   "outputs": [],
   "source": [
    "import numpy as np\n",
    "from lightfm.datasets import fetch_movielens\n",
    "from lightfm import LightFM\n",
    "from lightfm.evaluation import auc_score,recall_at_k, precision_at_k\n",
    "\n",
    "data = fetch_movielens(min_rating =4.0) # \n",
    "\n",
    "#print(repr(data['train']))\n",
    "#print(repr(data['test']))\n",
    "\n",
    "model = LightFM(learning_rate=0.01,loss = 'warp')\n",
    "model.fit(data['test'], epochs=35, num_threads=2)\n",
    "\n",
    "train =data['train']\n",
    "test =data['test']\n",
    "\n",
    "train_precision = precision_at_k(model, train, k=10).mean()\n",
    "test_precision = precision_at_k(model, test, k=10).mean()\n",
    "\n",
    "train_auc = auc_score(model, train).mean()\n",
    "test_auc = auc_score(model, test).mean()\n",
    "\n",
    "train_recall = recall_at_k(model, train).mean()\n",
    "test_recall = recall_at_k(model, test).mean()\n",
    "\n",
    "print('Precision: train %.2f, test %.2f.' % (train_precision, test_precision))\n",
    "print('AUC: train %.2f, test %.2f.' % (train_auc, test_auc))\n",
    "print('Recall: train %.2f, test %.2f.' % (train_recall, test_recall))\n",
    "\n",
    "def sample_recommendation(model, data, user_ids):\n",
    "    n_users, n_items = data['train'].shape\n",
    "    for user_id in user_ids:\n",
    "        known_positives = data['item_labels'][data['train'].tocsr()[user_id].indices]\n",
    "\n",
    "        scores = model.predict(user_id, np.arange(n_items))\n",
    "        top_items = data['item_labels']\n",
    "        top_items_original = data['item_labels'][np.argsort(-scores)]\n",
    "\n",
    "        print(\"User %s\" % user_id)\n",
    "        print(\"     Known positives:\")\n",
    "        \n",
    "        for x in known_positives[:5]:\n",
    "            print(\"        %s\" % x)\n",
    "        \n",
    "        print(\"     Recommended:\")\n",
    "        \n",
    "        for x in top_items_original[:3]:\n",
    "           print(\"        %s\" % x)\n",
    "        print()\n",
    "        #print(scores.shape)\n",
    "        #print(top_items.shape)\n",
    "        mat = np.column_stack((top_items,scores))\n",
    "        mat_sort = mat[np.argsort(-scores)]\n",
    "        for x in mat_sort[:5]:\n",
    "            print(\"        %s\" % x)\n",
    "        print()\n",
    "        #for x in mat[:3]:\n",
    "        #    print(\"        %s\" % x)\n"
   ]
  },
  {
   "cell_type": "code",
   "execution_count": null,
   "metadata": {},
   "outputs": [],
   "source": [
    "sample_recommendation(model, data, [1,2,3])"
   ]
  },
  {
   "cell_type": "code",
   "execution_count": null,
   "metadata": {},
   "outputs": [],
   "source": []
  }
 ],
 "metadata": {
  "kernelspec": {
   "name": "python3",
   "display_name": "Python 3.6.8 64-bit",
   "metadata": {
    "interpreter": {
     "hash": "e86560c00f1ecfbf261dfa9240e5c17f500c8310bc39cc125b2c4aa78646d5fb"
    }
   }
  },
  "language_info": {
   "codemirror_mode": {
    "name": "ipython",
    "version": 3
   },
   "file_extension": ".py",
   "mimetype": "text/x-python",
   "name": "python",
   "nbconvert_exporter": "python",
   "pygments_lexer": "ipython3",
   "version": "3.6.8-final"
  }
 },
 "nbformat": 4,
 "nbformat_minor": 5
}