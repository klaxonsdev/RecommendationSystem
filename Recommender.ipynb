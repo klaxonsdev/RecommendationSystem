{
 "cells": [
  {
   "cell_type": "code",
   "execution_count": 6,
   "id": "polished-springer",
   "metadata": {},
   "outputs": [
    {
     "ename": "SyntaxError",
     "evalue": "invalid character in identifier (<ipython-input-6-631b0f6cd370>, line 10)",
     "output_type": "error",
     "traceback": [
      "\u001b[0;36m  File \u001b[0;32m\"<ipython-input-6-631b0f6cd370>\"\u001b[0;36m, line \u001b[0;32m10\u001b[0m\n\u001b[0;31m    model = LightFM(loss = ‘warp’)\u001b[0m\n\u001b[0m                                ^\u001b[0m\n\u001b[0;31mSyntaxError\u001b[0m\u001b[0;31m:\u001b[0m invalid character in identifier\n"
     ]
    }
   ],
   "source": [
    "import numpy as np\n",
    "from lightfm.datasets import fetch_movielens\n",
    "from lightfm import LightFM\n",
    "\n",
    "data = fetch_movielens(min_rating = 4.0)\n",
    "\n",
    "print(repr(data['train']))\n",
    "print(repr(data['test']))\n",
    "\n",
    "model = LightFM(loss = ‘warp’)\n",
    "model.fit(data[‘train’], epochs=30, num_threads=2)\n",
    "\n",
    "def sample_recommendation(model, data, user_ids):\n",
    "n_users, n_items = data[‘train’].shape\n",
    "\n",
    "for user_id in user_ids:\n",
    "known_positives = data[‘item_labels’][data[‘train’].tocsr()[user_id].indices]\n",
    "\n",
    "scores = model.predict(user_id, np.arange(n_items))\n",
    "top_items = data[‘item_labels’][np.argsort(-scores)]\n",
    "\n",
    "print(“User %s” % user_id)\n",
    "print(“ Known positives:”)\n",
    "\n",
    "for x in known_positives[:3]:\n",
    "print(“ %s” % x)\n",
    "print(“ Recommended:”)\n",
    "\n",
    "for x in top_items[:3]:\n",
    "print(“ %s” % x)\n",
    "\n",
    "def sample_recommendation(model, data, user_ids):\n",
    "    n_users, n_items = data['train'].shape\n",
    "    for user_id in user_ids:\n",
    "        known_positives = data['item_labels'][data['train'].tocsr()                                    \n",
    "                          [user_id].indices]\n",
    "        \n",
    "        scores = model.predict(user_id, np.arange(n_items))\n",
    "\n",
    "        top_items = data['item_labels'][np.argsort(-scores)]\n",
    "\n",
    "        print(\"User %s\" % user_id)\n",
    "        print(\"     Known positives:\")\n",
    "        \n",
    "        for x in known_positives[:3]:\n",
    "            print(\"        %s\" % x)\n",
    "        \n",
    "        print(\"     Recommended:\")\n",
    "        \n",
    "        for x in top_items[:3]:\n",
    "            print(\"        %s\" % x)\n",
    "\n",
    "sample_recommendation(model, data, [3, 25, 451])"
   ]
  },
  {
   "cell_type": "code",
   "execution_count": null,
   "id": "surprising-article",
   "metadata": {},
   "outputs": [],
   "source": []
  }
 ],
 "metadata": {
  "kernelspec": {
   "display_name": "Python 3",
   "language": "python",
   "name": "python3"
  },
  "language_info": {
   "codemirror_mode": {
    "name": "ipython",
    "version": 3
   },
   "file_extension": ".py",
   "mimetype": "text/x-python",
   "name": "python",
   "nbconvert_exporter": "python",
   "pygments_lexer": "ipython3",
   "version": "3.8.5"
  }
 },
 "nbformat": 4,
 "nbformat_minor": 5
}
